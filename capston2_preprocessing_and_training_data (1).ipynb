{
 "cells": [
  {
   "cell_type": "code",
   "execution_count": null,
   "id": "6fb751c9-79b5-4ce2-b5ea-3a5613b68e66",
   "metadata": {},
   "outputs": [],
   "source": [
    "Step 1: import Libraries"
   ]
  },
  {
   "cell_type": "code",
   "execution_count": null,
   "id": "899b56fa-42ec-40d1-b7bc-023471723a22",
   "metadata": {},
   "outputs": [],
   "source": [
    "impot panda as pd\n",
    "import numpy as np\n",
    "form sklearn.model_selection import train_tesstsplit\n",
    "from sklearn.preprocessing import StandardScaler"
   ]
  },
  {
   "cell_type": "code",
   "execution_count": null,
   "id": "e7c0a310-56a8-446d-b28e-b944869ff07c",
   "metadata": {},
   "outputs": [],
   "source": [
    "Step 2: Load your Data"
   ]
  },
  {
   "cell_type": "code",
   "execution_count": null,
   "id": "67fcb14a-1e1c-4f09-bfff-997ff500c4c3",
   "metadata": {},
   "outputs": [],
   "source": [
    "df = pd.read_csv(r\"C:\\Users\\zuris\\OneDrive\\Desktop\\Employee Attrition.csv\")\n",
    "df.head()"
   ]
  },
  {
   "cell_type": "code",
   "execution_count": null,
   "id": "492dedb6-b968-450e-b233-084ed65cdede",
   "metadata": {},
   "outputs": [],
   "source": [
    "Step 3: Separate Features and Target"
   ]
  },
  {
   "cell_type": "code",
   "execution_count": null,
   "id": "81a114fd-42af-41a0-92c8-d74414f153f0",
   "metadata": {},
   "outputs": [],
   "source": [
    "x = df.drop('target_column', axis=1)\n",
    "y = df['target_column']"
   ]
  },
  {
   "cell_type": "code",
   "execution_count": null,
   "id": "5eaef9b2-1ad8-490b-b329-e5afd6a4bbb8",
   "metadata": {},
   "outputs": [],
   "source": [
    "Step 4: Create Dummy Variables for Categorical Columns"
   ]
  },
  {
   "cell_type": "code",
   "execution_count": null,
   "id": "7867f938-e9f5-4b33-adf3-3689b3cbfd20",
   "metadata": {},
   "outputs": [],
   "source": [
    "x = pd.get_dummies(x, dtop_first=True)"
   ]
  },
  {
   "cell_type": "code",
   "execution_count": null,
   "id": "feb6c40a-0b72-46cb-bf81-8f8c5e471b53",
   "metadata": {},
   "outputs": [],
   "source": [
    "Step 5: Split Data into Train/Test Sets"
   ]
  },
  {
   "cell_type": "code",
   "execution_count": null,
   "id": "11423e1a-7651-4b46-918a-811e4db118b5",
   "metadata": {},
   "outputs": [],
   "source": [
    "X_train, x_test, y_train, y_test = train_test_split(\n",
    "    x, y, test_size=0.2, random_state=42"
   ]
  },
  {
   "cell_type": "code",
   "execution_count": null,
   "id": "bc68f3ef-32ce-4002-b3de-939c1c130b3d",
   "metadata": {},
   "outputs": [],
   "source": [
    "Step 6: Scale Numeric Features"
   ]
  },
  {
   "cell_type": "code",
   "execution_count": null,
   "id": "fdff812e-cb14-4608-9391-1da405195ab4",
   "metadata": {},
   "outputs": [],
   "source": [
    "scaler = StandardScaler()"
   ]
  },
  {
   "cell_type": "code",
   "execution_count": null,
   "id": "5371522a-7890-4690-a865-2272d76f2c8f",
   "metadata": {},
   "outputs": [],
   "source": [
    "X_train_scaled = scaler.fit_transform(x_train)\n",
    " x_test_scaled = scaler.transform(x_test)"
   ]
  }
 ],
 "metadata": {
  "kernelspec": {
   "display_name": "Python [conda env:base] *",
   "language": "python",
   "name": "conda-base-py"
  },
  "language_info": {
   "codemirror_mode": {
    "name": "ipython",
    "version": 3
   },
   "file_extension": ".py",
   "mimetype": "text/x-python",
   "name": "python",
   "nbconvert_exporter": "python",
   "pygments_lexer": "ipython3",
   "version": "3.12.7"
  }
 },
 "nbformat": 4,
 "nbformat_minor": 5
}
