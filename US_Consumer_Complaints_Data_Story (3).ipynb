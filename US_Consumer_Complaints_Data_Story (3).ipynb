{
 "cells": [
  {
   "cell_type": "code",
   "execution_count": null,
   "id": "589b9bfc-65cb-473d-b44f-2c0c9d0f6f80",
   "metadata": {},
   "outputs": [],
   "source": [
    "## US Consumer Finance Complaints: A Data Story"
   ]
  },
  {
   "cell_type": "code",
   "execution_count": null,
   "id": "adf54e27-3563-4272-aaca-85cc4ed26930",
   "metadata": {},
   "outputs": [],
   "source": [
    "import os\n",
    "desktop_path = r\"C:\\Users\\zuris\\OneDrive\\Desktop\"\n",
    "print(os.listdir(desktop_path))"
   ]
  },
  {
   "cell_type": "code",
   "execution_count": null,
   "id": "2c3249e5-e892-42a5-92b0-63ed86865bf6",
   "metadata": {},
   "outputs": [],
   "source": [
    "STEP 1: Load and Preview the Data"
   ]
  },
  {
   "cell_type": "code",
   "execution_count": null,
   "id": "bf0a2397-3df7-4b79-8147-445acf3da9e5",
   "metadata": {},
   "outputs": [],
   "source": [
    "\n",
    "import pandas as pd\n",
    "df = pd.read_csc(r\"\"C:\\Users\\zuris\\OneDrive\\Desktop\\consumer_complaints.csv\")\n",
    "df.head()"
   ]
  },
  {
   "cell_type": "code",
   "execution_count": null,
   "id": "06bd0134-a439-4111-ae51-ae45c4348aef",
   "metadata": {},
   "outputs": [],
   "source": [
    "STEP 2: Clean and Prepare"
   ]
  },
  {
   "cell_type": "code",
   "execution_count": null,
   "id": "b67dcf5b-c4bb-4f8e-a725-4f8253f2357d",
   "metadata": {},
   "outputs": [],
   "source": [
    "df['date_received'] = pd.to_datetime(df['date_received'], errors='coerce')\n",
    "df['date_sent_to_company'] = pd.to_datetime(df['date_sent_to_company'],errors='coerce')\n",
    "df.dropna(subset=['company', 'issue'], inplace=True)\n",
    "df['year'] = df['date_received'].dt.year\n",
    "df['month'] = df['date_received'] .dt.month"
   ]
  },
  {
   "cell_type": "code",
   "execution_count": null,
   "id": "2b2a1afb-cd10-410b-9ea5-2d63439f61d5",
   "metadata": {},
   "outputs": [],
   "source": [
    "STEP 3: Visualize Key Trends"
   ]
  },
  {
   "cell_type": "code",
   "execution_count": null,
   "id": "33de138d-353b-4c3b-9d9c-6ae6a0959c7c",
   "metadata": {},
   "outputs": [],
   "source": [
    "df['issue'].value_counts().head(10).plot(kind='barh', title-'Top 10 Complaint Issues')\n",
    "Top complaint issues"
   ]
  },
  {
   "cell_type": "code",
   "execution_count": null,
   "id": "03acb97e-9682-4115-a151-a1b72923c6c1",
   "metadata": {},
   "outputs": [],
   "source": [
    "df.groupby('year').size().plot(kind=\"Line', title='Complaints Over Time')\n",
    "complaints over Time"
   ]
  },
  {
   "cell_type": "code",
   "execution_count": null,
   "id": "cb8e1706-d00c-4676-8b35-f15436324025",
   "metadata": {},
   "outputs": [],
   "source": [
    "df['company'].value_counts().head(10).plot(kind='bar', title='Top 10 companies by complaints')\n",
    "Top Companies by Complaint Volume"
   ]
  },
  {
   "cell_type": "code",
   "execution_count": null,
   "id": "61f693c5-7d71-48f2-9a5f-50e12a36c9f6",
   "metadata": {},
   "outputs": [],
   "source": [
    "STEP 4: Develop a Hypothesis"
   ]
  },
  {
   "cell_type": "code",
   "execution_count": null,
   "id": "9a02975f-a019-4853-be2a-9f751fad58e4",
   "metadata": {},
   "outputs": [],
   "source": [
    "\"complaints about credit reporting are more frequent in New York than in other states.\""
   ]
  },
  {
   "cell_type": "code",
   "execution_count": null,
   "id": "67fea568-7675-4ab5-b8c0-ecc1bb2a206e",
   "metadata": {},
   "outputs": [],
   "source": [
    "credit_issues = df[df[''product'].str.contains{'Credit reporting', case=False)]\n",
    "credit_issues['state'].value_counts().head(10).plot(kind='bar', title='credit Reporting Complaints by State')"
   ]
  },
  {
   "cell_type": "code",
   "execution_count": null,
   "id": "7f2e586d-0758-4b6c-8d7d-1907bb026617",
   "metadata": {},
   "outputs": [],
   "source": [
    "STEP 5: Crafting the Data Story"
   ]
  },
  {
   "cell_type": "code",
   "execution_count": null,
   "id": "dc7d325d-2f7b-4ed8-8827-a65f098dc3c8",
   "metadata": {},
   "outputs": [],
   "source": [
    " # Final Insights and Data Story\n",
    "After exploring the US consumer Finance Complaints dataset, several key Pattern emerged. The most common issues relate \n",
    "to loan servicing and credit reporting. Complaints peaked in2016 and have gradually declined since. A few companies\n",
    "dominate the complaint volume, including wells Fargo and U.S. Bancorp. I tested a hypothesis that credit reporting \n",
    "complaints are more frequent in densely populated states like New York and California. The data supported this, showing \n",
    "a higher concentration of such complaints inthose regions. "
   ]
  },
  {
   "cell_type": "code",
   "execution_count": null,
   "id": "732e2f70-918b-47c1-ba4e-3669000b37a7",
   "metadata": {},
   "outputs": [],
   "source": [
    "# Summary Visualization\n",
    "import matplotlib.pyplot as plt\n",
    "df['product'].value_counts().plot(kind='pie', autoplot='%1.1f%%',figsize=(8,8), title='Complaints by Product')\n",
    "plt.ylabel('')\n",
    "plt.show()"
   ]
  },
  {
   "cell_type": "code",
   "execution_count": null,
   "id": "db8f9732-c6bd-4b52-9fe2-987034cca758",
   "metadata": {},
   "outputs": [],
   "source": [
    "#CONCLUSTION:\n",
    "This analysis highlights the importance of transparency and responsivenessin consumer finance. Companies with high\n",
    "comlaint volumes should investigate root causes and improve customer service. Regulators can use this data to identify \n",
    "systemic issues and target interventions. Further exploration could include sentiment analysis of complaint narratives\n",
    "or tracking resolution times."
   ]
  },
  {
   "cell_type": "code",
   "execution_count": null,
   "id": "5bcacc9c-1070-4a13-9e23-d9e2388e0e4f",
   "metadata": {},
   "outputs": [],
   "source": []
  }
 ],
 "metadata": {
  "kernelspec": {
   "display_name": "Python [conda env:base] *",
   "language": "python",
   "name": "conda-base-py"
  },
  "language_info": {
   "codemirror_mode": {
    "name": "ipython",
    "version": 3
   },
   "file_extension": ".py",
   "mimetype": "text/x-python",
   "name": "python",
   "nbconvert_exporter": "python",
   "pygments_lexer": "ipython3",
   "version": "3.12.7"
  }
 },
 "nbformat": 4,
 "nbformat_minor": 5
}
