{
 "cells": [
  {
   "cell_type": "code",
   "execution_count": null,
   "id": "ee053043-6890-45e7-92c2-d7ef1937b9e4",
   "metadata": {},
   "outputs": [],
   "source": [
    "step 1: Import Libraries"
   ]
  },
  {
   "cell_type": "code",
   "execution_count": null,
   "id": "c24f82f0-dc7f-4786-ba4a-437ac24f4695",
   "metadata": {},
   "outputs": [],
   "source": [
    "step 2: Load the Dataset"
   ]
  },
  {
   "cell_type": "code",
   "execution_count": 12,
   "id": "0b70f8f6-8eb0-4f69-b10c-41c992f7588c",
   "metadata": {},
   "outputs": [
    {
     "data": {
      "text/plain": [
       "Index(['Age', 'Attrition', 'BusinessTravel', 'DailyRate', 'Department',\n",
       "       'DistanceFromHome', 'Education', 'EducationField', 'EmployeeCount',\n",
       "       'EmployeeNumber', 'EnvironmentSatisfaction', 'Gender', 'HourlyRate',\n",
       "       'JobInvolvement', 'JobLevel', 'JobRole', 'JobSatisfaction',\n",
       "       'MaritalStatus', 'MonthlyIncome', 'MonthlyRate', 'NumCompaniesWorked',\n",
       "       'Over18', 'OverTime', 'PercentSalaryHike', 'PerformanceRating',\n",
       "       'RelationshipSatisfaction', 'StandardHours', 'StockOptionLevel',\n",
       "       'TotalWorkingYears', 'TrainingTimesLastYear', 'WorkLifeBalance',\n",
       "       'YearsAtCompany', 'YearsInCurrentRole', 'YearsSinceLastPromotion',\n",
       "       'YearsWithCurrManager'],\n",
       "      dtype='object')"
      ]
     },
     "execution_count": 12,
     "metadata": {},
     "output_type": "execute_result"
    }
   ],
   "source": [
    "import pandas as pd\n",
    "import numpy as np\n",
    "import matplotlib.pyplot as plt\n",
    "import seaborn as sns\n",
    "sns.set(style=\"whitegrid\")\n",
    "df = pd.read_csv(r\"C:\\Users\\zuris\\OneDrive\\Desktop\\kaggle  file 1.csv\")\n",
    "df.head()\n",
    "df.shape\n",
    "df.columns"
   ]
  },
  {
   "cell_type": "code",
   "execution_count": null,
   "id": "4ecec3ed-cfad-4f46-b7a2-817f700a1cd2",
   "metadata": {},
   "outputs": [],
   "source": [
    "step 3: Initial Data Overview"
   ]
  },
  {
   "cell_type": "code",
   "execution_count": 17,
   "id": "040f7a29-1793-4618-b5b5-259e3d460b7f",
   "metadata": {},
   "outputs": [
    {
     "name": "stdout",
     "output_type": "stream",
     "text": [
      "<class 'pandas.core.frame.DataFrame'>\n",
      "RangeIndex: 1470 entries, 0 to 1469\n",
      "Data columns (total 35 columns):\n",
      " #   Column                    Non-Null Count  Dtype \n",
      "---  ------                    --------------  ----- \n",
      " 0   Age                       1470 non-null   int64 \n",
      " 1   Attrition                 1470 non-null   object\n",
      " 2   BusinessTravel            1470 non-null   object\n",
      " 3   DailyRate                 1470 non-null   int64 \n",
      " 4   Department                1470 non-null   object\n",
      " 5   DistanceFromHome          1470 non-null   int64 \n",
      " 6   Education                 1470 non-null   int64 \n",
      " 7   EducationField            1470 non-null   object\n",
      " 8   EmployeeCount             1470 non-null   int64 \n",
      " 9   EmployeeNumber            1470 non-null   int64 \n",
      " 10  EnvironmentSatisfaction   1470 non-null   int64 \n",
      " 11  Gender                    1470 non-null   object\n",
      " 12  HourlyRate                1470 non-null   int64 \n",
      " 13  JobInvolvement            1470 non-null   int64 \n",
      " 14  JobLevel                  1470 non-null   int64 \n",
      " 15  JobRole                   1470 non-null   object\n",
      " 16  JobSatisfaction           1470 non-null   int64 \n",
      " 17  MaritalStatus             1470 non-null   object\n",
      " 18  MonthlyIncome             1470 non-null   int64 \n",
      " 19  MonthlyRate               1470 non-null   int64 \n",
      " 20  NumCompaniesWorked        1470 non-null   int64 \n",
      " 21  Over18                    1470 non-null   object\n",
      " 22  OverTime                  1470 non-null   object\n",
      " 23  PercentSalaryHike         1470 non-null   int64 \n",
      " 24  PerformanceRating         1470 non-null   int64 \n",
      " 25  RelationshipSatisfaction  1470 non-null   int64 \n",
      " 26  StandardHours             1470 non-null   int64 \n",
      " 27  StockOptionLevel          1470 non-null   int64 \n",
      " 28  TotalWorkingYears         1470 non-null   int64 \n",
      " 29  TrainingTimesLastYear     1470 non-null   int64 \n",
      " 30  WorkLifeBalance           1470 non-null   int64 \n",
      " 31  YearsAtCompany            1470 non-null   int64 \n",
      " 32  YearsInCurrentRole        1470 non-null   int64 \n",
      " 33  YearsSinceLastPromotion   1470 non-null   int64 \n",
      " 34  YearsWithCurrManager      1470 non-null   int64 \n",
      "dtypes: int64(26), object(9)\n",
      "memory usage: 402.1+ KB\n"
     ]
    },
    {
     "data": {
      "text/plain": [
       "0"
      ]
     },
     "execution_count": 17,
     "metadata": {},
     "output_type": "execute_result"
    }
   ],
   "source": [
    "df.info()\n",
    "df.describe()\n",
    "df.isnull().sum()\n",
    "df.duplicated().sum()"
   ]
  },
  {
   "cell_type": "code",
   "execution_count": null,
   "id": "db4e086f-4e4b-42b8-b2ef-3df60a07ce5d",
   "metadata": {},
   "outputs": [],
   "source": [
    "step 4: Handle Missing Values"
   ]
  },
  {
   "cell_type": "code",
   "execution_count": 33,
   "id": "54f2354d-6d87-4422-ae1e-19c39ee51c78",
   "metadata": {},
   "outputs": [
    {
     "name": "stdout",
     "output_type": "stream",
     "text": [
      "Index(['Age', 'Attrition', 'BusinessTravel', 'DailyRate', 'Department',\n",
      "       'DistanceFromHome', 'Education', 'EducationField', 'EmployeeCount',\n",
      "       'EmployeeNumber', 'EnvironmentSatisfaction', 'Gender', 'HourlyRate',\n",
      "       'JobInvolvement', 'JobLevel', 'JobRole', 'JobSatisfaction',\n",
      "       'MaritalStatus', 'MonthlyIncome', 'MonthlyRate', 'NumCompaniesWorked',\n",
      "       'Over18', 'OverTime', 'PercentSalaryHike', 'PerformanceRating',\n",
      "       'RelationshipSatisfaction', 'StandardHours', 'StockOptionLevel',\n",
      "       'TotalWorkingYears', 'TrainingTimesLastYear', 'WorkLifeBalance',\n",
      "       'YearsAtCompany', 'YearsInCurrentRole', 'YearsSinceLastPromotion',\n",
      "       'YearsWithCurrManager'],\n",
      "      dtype='object')\n"
     ]
    }
   ],
   "source": [
    "df['TotalWorkingYears'] = df['TotalWorkingYears'].fillna(df['TotalWorkingYears'].median())\n",
    "df.dropna(subset=['JobSatisfaction'])\n",
    "print(df.columns)\n"
   ]
  },
  {
   "cell_type": "code",
   "execution_count": null,
   "id": "0806ecc4-18d4-40a4-a9f4-fab79eacc273",
   "metadata": {},
   "outputs": [],
   "source": [
    "step 5: Remove Duplicationes"
   ]
  },
  {
   "cell_type": "code",
   "execution_count": 35,
   "id": "af5eb00b-e6ae-4395-a8f8-44a7ba19c17a",
   "metadata": {},
   "outputs": [],
   "source": [
    "df.drop_duplicates(inplace=True)\n"
   ]
  },
  {
   "cell_type": "code",
   "execution_count": null,
   "id": "44d5309c-b09e-481e-b138-508c24857892",
   "metadata": {},
   "outputs": [],
   "source": [
    "step 6: Handle outliers "
   ]
  },
  {
   "cell_type": "code",
   "execution_count": 41,
   "id": "d982c1d5-1ada-4360-89d0-6a25b85f0686",
   "metadata": {},
   "outputs": [],
   "source": [
    "Q1 =df['MonthlyIncome']. quantile(0.25)\n",
    "Q3 = df['MonthlyIncome'].quantile(0.75)\n",
    "IQR = Q3 - Q1\n",
    "df = df[~((df['MonthlyIncome'] < (Q1 - 1.5 * IQR)) |\n",
    "          (df['MonthlyIncome'] > (Q3 + 1.5 * IQR)))]\n"
   ]
  },
  {
   "cell_type": "code",
   "execution_count": null,
   "id": "4b353e5a-1a87-4f30-8bd7-93e2b34cee03",
   "metadata": {},
   "outputs": [],
   "source": [
    "step 7: Encode Categorical Variables"
   ]
  },
  {
   "cell_type": "code",
   "execution_count": 45,
   "id": "c5410ef5-096c-4679-93f3-e9ebb7dd5465",
   "metadata": {},
   "outputs": [],
   "source": [
    "df = pd.get_dummies(df, drop_first= True)"
   ]
  },
  {
   "cell_type": "code",
   "execution_count": null,
   "id": "80d64423-341a-446a-ab2b-62399ac63e7d",
   "metadata": {},
   "outputs": [],
   "source": [
    "step 8:Normalize/Scale Features"
   ]
  },
  {
   "cell_type": "code",
   "execution_count": 49,
   "id": "fb70d9c2-e562-4003-86b5-788041f3ab9b",
   "metadata": {},
   "outputs": [],
   "source": [
    "from sklearn.preprocessing import StandardScaler\n",
    "scaler = StandardScaler()\n",
    "df[['Age', 'MonthlyIncome', '?yearsAtCompany']] =scaler.fit_transform(df[['Age', 'MonthlyIncome', 'YearsAtCompany']])\n"
   ]
  },
  {
   "cell_type": "code",
   "execution_count": null,
   "id": "5d9cb6ab-a960-46d2-82a5-f39db9459457",
   "metadata": {},
   "outputs": [],
   "source": [
    "step 9: Save Clean Data"
   ]
  },
  {
   "cell_type": "code",
   "execution_count": 51,
   "id": "9d231cc4-ef59-408b-bae7-0218f5648f13",
   "metadata": {},
   "outputs": [],
   "source": [
    "df.to_csv(\"cleaned_employee_attrition.csv\", index=False)\n"
   ]
  },
  {
   "cell_type": "code",
   "execution_count": null,
   "id": "f3153e3b-5fc1-4792-9248-425076b241bb",
   "metadata": {},
   "outputs": [],
   "source": []
  }
 ],
 "metadata": {
  "kernelspec": {
   "display_name": "Python [conda env:base] *",
   "language": "python",
   "name": "conda-base-py"
  },
  "language_info": {
   "codemirror_mode": {
    "name": "ipython",
    "version": 3
   },
   "file_extension": ".py",
   "mimetype": "text/x-python",
   "name": "python",
   "nbconvert_exporter": "python",
   "pygments_lexer": "ipython3",
   "version": "3.12.7"
  }
 },
 "nbformat": 4,
 "nbformat_minor": 5
}
