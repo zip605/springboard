{
 "cells": [
  {
   "cell_type": "code",
   "execution_count": null,
   "id": "10248ba7-a59e-42fe-bfec-6b63b5ce1f06",
   "metadata": {},
   "outputs": [],
   "source": [
    "CAPSTONE TWO : MODELING"
   ]
  },
  {
   "cell_type": "code",
   "execution_count": null,
   "id": "c9890aee-5e87-49d1-89a7-16213c8c1b69",
   "metadata": {},
   "outputs": [],
   "source": [
    "Step 1: Import Libraries"
   ]
  },
  {
   "cell_type": "code",
   "execution_count": null,
   "id": "85ccd841-ab4f-4162-ab87-4835b57cfde8",
   "metadata": {},
   "outputs": [],
   "source": [
    "import  pandas a pd\n",
    "import numpy as np\n",
    "from sklarn.model_selection import train_test_split, GridSearchCV\n",
    "from sklearn.preprocessing import StandardScalr\n",
    "fron sklearn.metrics import classification_report, confusion_matrix\n"
   ]
  },
  {
   "cell_type": "code",
   "execution_count": null,
   "id": "d3e78ef8-79f8-47d7-9444-3046a11ae2d0",
   "metadata": {},
   "outputs": [],
   "source": [
    "Step 2: Load and  Prepare Data"
   ]
  },
  {
   "cell_type": "code",
   "execution_count": null,
   "id": "6f96a8d9-f724-4f61-9831-203ed7defc11",
   "metadata": {},
   "outputs": [],
   "source": [
    "df = pd.read_csv('your_dataset.csv')\n",
    "x = df.drop('target', axis=1)\n",
    "y = df['target']"
   ]
  },
  {
   "cell_type": "code",
   "execution_count": null,
   "id": "dcb2bac6-19fd-4acf-b3e5-9243825de5c9",
   "metadata": {},
   "outputs": [],
   "source": [
    "Step 3: Train-Test Split"
   ]
  },
  {
   "cell_type": "code",
   "execution_count": null,
   "id": "850b2a4e-9672-4db7-b08c-64f7ea436c48",
   "metadata": {},
   "outputs": [],
   "source": [
    "x_train, x_test, y_train, y_test = train_test_spli(x, y, test_size=0.2, random_state=42)\n"
   ]
  },
  {
   "cell_type": "code",
   "execution_count": null,
   "id": "dedd42e9-9d28-4421-a311-aaf692ce8150",
   "metadata": {},
   "outputs": [],
   "source": [
    "Step 4: Scale Features(if needed)"
   ]
  },
  {
   "cell_type": "code",
   "execution_count": null,
   "id": "ea14a0b6-e8d0-478a-9544-842d29dd4755",
   "metadata": {},
   "outputs": [],
   "source": [
    "scalr =mStandardScaler()\n",
    "x_train = scaler.fit_transfor(x_train)\n",
    "x_test = scaler.transform(x_test)"
   ]
  },
  {
   "cell_type": "code",
   "execution_count": null,
   "id": "114e55c6-e45d-492e-b003-609dbc658991",
   "metadata": {},
   "outputs": [],
   "source": [
    "step 5: Model 1-Logistic Regression"
   ]
  },
  {
   "cell_type": "code",
   "execution_count": null,
   "id": "2d906b98-d0fe-4818-a1d6-b4ab387dea4a",
   "metadata": {},
   "outputs": [],
   "source": [
    "from sklearn.linear_model import LogisticRegression\n",
    "logreg = LogisticRegression()\n",
    "logreg.fit(x_train, y_train)\n",
    "y_pred1 = logreg.predict(x_tes)\n",
    "print('Logistic Regression')\n",
    "print(classification_report(y_test, ypred1))"
   ]
  },
  {
   "cell_type": "code",
   "execution_count": null,
   "id": "db3c5ef7-3c17-468a-ab14-b0c47bf0dd0a",
   "metadata": {},
   "outputs": [],
   "source": [
    "step 6: Model 2-Random Forest+Tuning"
   ]
  },
  {
   "cell_type": "code",
   "execution_count": null,
   "id": "f4dadf20-062d-4a32-9939-d82f1e10d6f5",
   "metadata": {},
   "outputs": [],
   "source": [
    "from sklearn.ensemble import RandomForestClassifier\n",
    "rf = RandomForestClassifier(random_state=42)\n",
    "params = {'n_estimations':[100, 200], 'max_depth': [None, 10, 20]}\n",
    "grid_df = GridSearchCV(rf, param_grid=params, cv=5)\n",
    "grid_rf.fit(x_train, y_train)\n",
    "y_pred2 = grid_rf.predict(x_test)\n",
    "print('Random Forest (Tuned)')\n",
    "print(classification_report(y_test, y_pred2))"
   ]
  },
  {
   "cell_type": "code",
   "execution_count": null,
   "id": "f5781cef-f111-468a-8517-b9fac3b08cf6",
   "metadata": {},
   "outputs": [],
   "source": [
    "Step 7: (Optional) Model 3 - XGBoost"
   ]
  },
  {
   "cell_type": "code",
   "execution_count": null,
   "id": "50134dc9-6499-4457-ae5f-f05a1bb7c1d9",
   "metadata": {},
   "outputs": [],
   "source": [
    "from sgboost import XGBClassifier \n",
    "xgb = XGBClassifier()\n",
    "xgb.fit(X_train, y_train)\n",
    "y_pred3 = xgb.predict(x_test)\n",
    "print('XGBoost')\n",
    "print(classification_report(y_test, y_pred3))"
   ]
  },
  {
   "cell_type": "code",
   "execution_count": null,
   "id": "d4e04952-727d-4644-89a8-4afa371d6f86",
   "metadata": {},
   "outputs": [],
   "source": [
    "Step 8: Compare Models"
   ]
  },
  {
   "cell_type": "code",
   "execution_count": null,
   "id": "85c04ce8-1b53-472b-aea7-40d84ae142e3",
   "metadata": {},
   "outputs": [],
   "source": [
    "models = {\n",
    "    'LogReg': y_pred1,\n",
    "    'RF': y_pred2, \n",
    "    'XGB': y_pred3\n",
    "}\n",
    "for name, pred in models.itms():\n",
    "    print(name, f1_score(y_test, pred))"
   ]
  },
  {
   "cell_type": "code",
   "execution_count": null,
   "id": "0f8d6f66-ad84-401b-b164-316ce35dcf61",
   "metadata": {},
   "outputs": [],
   "source": [
    "Step 9: Choose Best Model"
   ]
  },
  {
   "cell_type": "code",
   "execution_count": null,
   "id": "b9e96051-a7e8-4867-898b-6ea51c5c7e98",
   "metadata": {},
   "outputs": [],
   "source": [
    "Based on F1-score and precision, Random Forest performed the best."
   ]
  },
  {
   "cell_type": "code",
   "execution_count": null,
   "id": "ac27b2b9-acb8-4430-8328-b50463e5e147",
   "metadata": {},
   "outputs": [],
   "source": []
  },
  {
   "cell_type": "code",
   "execution_count": null,
   "id": "e20e9be3-1ffc-42ea-ae85-13d2b82193cd",
   "metadata": {},
   "outputs": [],
   "source": []
  }
 ],
 "metadata": {
  "kernelspec": {
   "display_name": "Python [conda env:base] *",
   "language": "python",
   "name": "conda-base-py"
  },
  "language_info": {
   "codemirror_mode": {
    "name": "ipython",
    "version": 3
   },
   "file_extension": ".py",
   "mimetype": "text/x-python",
   "name": "python",
   "nbconvert_exporter": "python",
   "pygments_lexer": "ipython3",
   "version": "3.12.7"
  }
 },
 "nbformat": 4,
 "nbformat_minor": 5
}
