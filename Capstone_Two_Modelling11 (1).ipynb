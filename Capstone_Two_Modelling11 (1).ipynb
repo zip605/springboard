{
 "cells": [
  {
   "cell_type": "code",
   "execution_count": null,
   "id": "589139a4-46da-40fc-96e1-c1513ea8ec00",
   "metadata": {},
   "outputs": [],
   "source": [
    "1. Import Libraries"
   ]
  },
  {
   "cell_type": "code",
   "execution_count": null,
   "id": "cf223cd5-1eb6-429b-a505-be2b14bb54d5",
   "metadata": {},
   "outputs": [],
   "source": [
    "import pandas as pd\n",
    "import numpy as np\n",
    "import matplotlib.pyplot as plt\n",
    "import seaborn as sns\n",
    "\n",
    "from sklearn.model_selection import train_test_split\n",
    "from sklearn.preprocessing import standardscaler\n",
    "from sklearn.linear_model import LogisticRegression\n",
    "from sklearn.ensemble import RandomForestClassifier\n",
    "from xgboost import XGBClassifier\n",
    "from sklearn.metrics import classification_report, confusion_matrix, accuracy_score"
   ]
  },
  {
   "cell_type": "code",
   "execution_count": null,
   "id": "52e22cd3-4ce0-42e7-98f6-6a4c17bad957",
   "metadata": {},
   "outputs": [],
   "source": [
    "2. Load the dataset"
   ]
  },
  {
   "cell_type": "code",
   "execution_count": null,
   "id": "adb8af5a-1340-483c-99f5-0ad9c84257e7",
   "metadata": {},
   "outputs": [],
   "source": [
    "df = pd.read_csv(r\"C:\\Users\\zuris\\OneDrive\\Desktop\\Employee Attrition.csv\")\n",
    "df.head()"
   ]
  },
  {
   "cell_type": "code",
   "execution_count": null,
   "id": "2db6e639-c887-41f8-b2f1-69ed4ff8e3e6",
   "metadata": {},
   "outputs": [],
   "source": [
    "3. Data Cleaning and Wrangling"
   ]
  },
  {
   "cell_type": "code",
   "execution_count": null,
   "id": "4905ee38-802b-44c5-883c-09509a9ee307",
   "metadata": {},
   "outputs": [],
   "source": [
    "#check for missing values\n",
    "df.isnull().sum()\n",
    "#Drop irrelevant columns \n",
    "df.drop(['EmployeeNumber', 'over18', 'StandardHours'],axis=1, inplace=True)\n",
    "#Convert target to binary\n",
    "df['Attrition'] = df['Attrition'].map({'yes': 1, 'No': 0})"
   ]
  },
  {
   "cell_type": "code",
   "execution_count": null,
   "id": "f25bb86d-b728-439c-b747-e22b2dbc9bb4",
   "metadata": {},
   "outputs": [],
   "source": [
    "4. Exploratory Data Analysis(EDA)"
   ]
  },
  {
   "cell_type": "code",
   "execution_count": null,
   "id": "f8ab161a-e503-4db8-a9fd-a72d96c89e61",
   "metadata": {},
   "outputs": [],
   "source": [
    "# Attrition Distribution\n",
    "sns.countplot(x='Attrition', data=df)\n",
    "plt.title('Attrition Distribution')\n",
    "plt.show()\n",
    "# Correlation heatmap\n",
    "plt.figure(figsize=(12,8))\n",
    "sns.heatmap(df.corr(), annot=True, cmap='coolwarm')\n",
    "plt.title('Feature Correlation')\n",
    "plt.show()"
   ]
  },
  {
   "cell_type": "code",
   "execution_count": null,
   "id": "b3909a03-63d5-44eb-b51a-048e7bf51386",
   "metadata": {},
   "outputs": [],
   "source": [
    "5. Feature Engineering"
   ]
  },
  {
   "cell_type": "code",
   "execution_count": null,
   "id": "706cff04-7a7f-4f3c-8cba-3d674254ee8f",
   "metadata": {},
   "outputs": [],
   "source": [
    "#create dummy variables\n",
    "df=pd.get_dummies(df,drop_first=True)\n",
    "# separate features and target\n",
    "x = df.drop('Attrition', axis=1)\n",
    "y = df['Attrition']\n",
    "#standardize features\n",
    "scaler = StandardScaler()\n",
    "x_scaled = scaler.fit_transform(x)"
   ]
  },
  {
   "cell_type": "code",
   "execution_count": null,
   "id": "29c83077-577e-4f38-a0d1-0837b156e97d",
   "metadata": {},
   "outputs": [],
   "source": [
    "6. Train-Test Split"
   ]
  },
  {
   "cell_type": "code",
   "execution_count": null,
   "id": "7383fc7c-b136-4fa3-ae6e-53bb94b527f8",
   "metadata": {},
   "outputs": [],
   "source": [
    "x_train, x_test, y_train, y_test = train_test_split(x_scaled, y, test_size=0.2, random_state=42)                                                    "
   ]
  },
  {
   "cell_type": "code",
   "execution_count": null,
   "id": "f185b8bd-5388-41ae-a376-36300a088d1e",
   "metadata": {},
   "outputs": [],
   "source": [
    "7. Model Building"
   ]
  },
  {
   "cell_type": "code",
   "execution_count": null,
   "id": "6f5748b2-2868-43ed-b392-6d04386f0aed",
   "metadata": {},
   "outputs": [],
   "source": [
    "# Logistic Regression\n",
    "lr = LogisticRegression()\n",
    "lr.fit(X_train, y_train)\n",
    "\n",
    "#Random Forest\n",
    "rf = RandomForestClassifier()\n",
    "rf.fit(X_train, y_train)\n",
    "\n",
    "#XGBoost\n",
    "Xgb = XGBClassifier(use_label_encode=False, eval_metric='Logloss')\n",
    "Xgb = fit(X_train, y_train)"
   ]
  },
  {
   "cell_type": "code",
   "execution_count": null,
   "id": "87240417-e308-434a-9c7d-7e7f088739ae",
   "metadata": {},
   "outputs": [],
   "source": [
    "8. Model Evaluation"
   ]
  },
  {
   "cell_type": "code",
   "execution_count": null,
   "id": "82a5b791-073d-4322-903b-5d9485bf928c",
   "metadata": {},
   "outputs": [],
   "source": [
    "models = {'Logistic Regression': lr, 'Random Forest': rf, 'XGBoost': sgb}\n",
    "\n",
    "for name, model in models.items():\n",
    "    y_pred = model.predict(X_test)\n",
    "    print(f\"--- {name) ---\")\n",
    "    print(\"Accuracy:\",  accuracy_score(y_test, y_pred))\n",
    "    print(\"Confusion Matrix:\\n\", confusion_matrix(y_test, y_pred))\n",
    "    print(\"Classification Report:\\n\", classification_report(y_test, y_pred))"
   ]
  },
  {
   "cell_type": "code",
   "execution_count": null,
   "id": "ff7e6696-3708-4b38-950e-dd1ec6e2147f",
   "metadata": {},
   "outputs": [],
   "source": [
    "9. Final Model Selection and Save Metrics "
   ]
  },
  {
   "cell_type": "code",
   "execution_count": null,
   "id": "03fdcf8c-4f15-4294-9cbb-6d1ccc750daf",
   "metadata": {},
   "outputs": [],
   "source": [
    "# Assume XGBoost performed best\n",
    "final_model =xgb\n",
    "y_final_pred = final_model.predict(x_test)\n",
    "#save metrics\n",
    "metrics = {\n",
    "    'Accuracy': accuracy_score(y_test, y_final_pred)\n",
    "}\n",
    "pd.DataFrame(metrics.items(), columns=['Metric', ''value'' ID.to_csv('model_metrics.csv('model_metrics csv'. index=False)"
   ]
  },
  {
   "cell_type": "code",
   "execution_count": null,
   "id": "36eb2be6-c92d-4cd5-ac13-5b1bfae6050b",
   "metadata": {},
   "outputs": [],
   "source": []
  }
 ],
 "metadata": {
  "kernelspec": {
   "display_name": "Python [conda env:base] *",
   "language": "python",
   "name": "conda-base-py"
  },
  "language_info": {
   "codemirror_mode": {
    "name": "ipython",
    "version": 3
   },
   "file_extension": ".py",
   "mimetype": "text/x-python",
   "name": "python",
   "nbconvert_exporter": "python",
   "pygments_lexer": "ipython3",
   "version": "3.12.7"
  }
 },
 "nbformat": 4,
 "nbformat_minor": 5
}
